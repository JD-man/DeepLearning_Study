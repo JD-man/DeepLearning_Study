{
  "nbformat": 4,
  "nbformat_minor": 0,
  "metadata": {
    "colab": {
      "name": "Chapter1_Data.ipynb",
      "provenance": [],
      "collapsed_sections": [],
      "authorship_tag": "ABX9TyOrX2nwr0vIFFvwHhULw1nR",
      "include_colab_link": true
    },
    "kernelspec": {
      "name": "python3",
      "display_name": "Python 3"
    }
  },
  "cells": [
    {
      "cell_type": "markdown",
      "metadata": {
        "id": "view-in-github",
        "colab_type": "text"
      },
      "source": [
        "<a href=\"https://colab.research.google.com/github/JD-man/DeepLearning_Study/blob/main/Chapter1/Chapter1_Data.ipynb\" target=\"_parent\"><img src=\"https://colab.research.google.com/assets/colab-badge.svg\" alt=\"Open In Colab\"/></a>"
      ]
    },
    {
      "cell_type": "code",
      "metadata": {
        "id": "871zzAEl6Zaa"
      },
      "source": [
        "# 데이터 전처리 : 원핫인코딩\r\n",
        "# 판다스는 get_dummies()함수로 제공\r\n",
        "\r\n",
        "import pandas as pd\r\n",
        "\r\n",
        "df2 = pd.DataFrame({'Day' : ['Monday', 'Tuesday', 'Wednesday', 'Thursday', 'Friday', 'Saturday', 'Sunday']})\r\n",
        "\r\n",
        "df2 = pd.get_dummies(df2)\r\n",
        "print(df2)"
      ],
      "execution_count": null,
      "outputs": []
    },
    {
      "cell_type": "code",
      "metadata": {
        "id": "mQsFJjct7e2S"
      },
      "source": [
        "# 결측값 보간 \r\n",
        "# 결측값은 값이 표기되지 않는 값을 말한다. 그냥 없는값. 이런값은 데이터로 읽기가 불가능하므로 보간해준다.\r\n",
        "\r\n",
        "import numpy as np\r\n",
        "import pandas as pd\r\n",
        "\r\n",
        "# 붓꽃 데이터셋 가져오기\r\n",
        "\r\n",
        "URL = 'https://archive.ics.uci.edu/ml/machine-learning-databases/iris/iris.data'\r\n",
        "df = pd.read_csv(URL, names = ['sepal_length', 'sepal_width', 'petal_length', 'petal_width', 'class'])\r\n",
        "\r\n",
        "# 로우 열개를 무작위로 고른다\r\n",
        "random_index = np.random.choice(df.index, replace=False, size=10)\r\n",
        "\r\n",
        "# 무작위로 고른 로우의 sepal_length 값을 None으로 바꾼다\r\n",
        "df.loc[random_index, 'sepal_length'] = None"
      ],
      "execution_count": null,
      "outputs": []
    },
    {
      "cell_type": "code",
      "metadata": {
        "colab": {
          "base_uri": "https://localhost:8080/"
        },
        "id": "Rr-Ez4wO9Q5q",
        "outputId": "15f90361-34c4-4934-8835-63bf4fbb2342"
      },
      "source": [
        "# 결측값이 있는지 확인하는 코드\r\n",
        "\r\n",
        "print(df.isnull().any())"
      ],
      "execution_count": null,
      "outputs": [
        {
          "output_type": "stream",
          "text": [
            "sepal_length     True\n",
            "sepal_width     False\n",
            "petal_length    False\n",
            "petal_width     False\n",
            "class           False\n",
            "dtype: bool\n"
          ],
          "name": "stdout"
        }
      ]
    },
    {
      "cell_type": "code",
      "metadata": {
        "id": "UCnIPBDw9cpn"
      },
      "source": [
        "# 결측문제 해결방법\r\n",
        "\r\n",
        "# 1. 결측값이 있는 로우를 지우는 방법\r\n",
        "df2 = df.dropna()\r\n"
      ],
      "execution_count": null,
      "outputs": []
    },
    {
      "cell_type": "code",
      "metadata": {
        "id": "BVLDMh0O9uon"
      },
      "source": [
        "# 2. 결측값을 sepal_length 칼럼의 평균값으로 대체\r\n",
        "\r\n",
        "df.sepal_length = df.sepal_length.fillna(df.sepal_length.mean())"
      ],
      "execution_count": null,
      "outputs": []
    },
    {
      "cell_type": "code",
      "metadata": {
        "colab": {
          "base_uri": "https://localhost:8080/"
        },
        "id": "Uam90io4-C71",
        "outputId": "320d1bd9-c6c0-42e3-f541-fd34237cb0b9"
      },
      "source": [
        "# 결측값이 사라졌는지 다시 확인\r\n",
        "print(df.isnull().any())"
      ],
      "execution_count": null,
      "outputs": [
        {
          "output_type": "stream",
          "text": [
            "sepal_length    False\n",
            "sepal_width     False\n",
            "petal_length    False\n",
            "petal_width     False\n",
            "class           False\n",
            "dtype: bool\n"
          ],
          "name": "stdout"
        }
      ]
    }
  ]
}