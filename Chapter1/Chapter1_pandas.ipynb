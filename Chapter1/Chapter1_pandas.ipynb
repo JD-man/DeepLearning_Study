{
  "nbformat": 4,
  "nbformat_minor": 0,
  "metadata": {
    "colab": {
      "name": "Chapter1_pandas.ipynb",
      "provenance": [],
      "collapsed_sections": [],
      "authorship_tag": "ABX9TyNVHLUQmZDymOFMRmIJyIH2",
      "include_colab_link": true
    },
    "kernelspec": {
      "name": "python3",
      "display_name": "Python 3"
    }
  },
  "cells": [
    {
      "cell_type": "markdown",
      "metadata": {
        "id": "view-in-github",
        "colab_type": "text"
      },
      "source": [
        "<a href=\"https://colab.research.google.com/github/JD-man/DeepLearning_Study/blob/main/Chapter1/Chapter1_pandas.ipynb\" target=\"_parent\"><img src=\"https://colab.research.google.com/assets/colab-badge.svg\" alt=\"Open In Colab\"/></a>"
      ]
    },
    {
      "cell_type": "code",
      "metadata": {
        "id": "2fee18ZSpCn9",
        "colab": {
          "base_uri": "https://localhost:8080/",
          "height": 1000
        },
        "outputId": "3d6c5b84-6854-4bd2-dc18-b1dd398951b3"
      },
      "source": [
        "# 판다스 기초\r\n",
        "\r\n",
        "import pandas as pd\r\n",
        "\r\n",
        "URL = 'https://archive.ics.uci.edu/ml/machine-learning-databases/iris/iris.data'\r\n",
        "df = pd.read_csv(URL, names = ['sepal_length', 'sepal_width', 'petal_length', 'petal_width', 'class'])\r\n",
        "\r\n",
        "# 데이터 유형 파악하기 = info\r\n",
        "print(df.info())\r\n",
        "print('##################################################################')\r\n",
        "\r\n",
        "# 데이터 통계 정보보기 = describe\r\n",
        "print(df.describe())\r\n",
        "print('##################################################################')\r\n",
        "\r\n",
        "# 데이터 로우보기 = head\r\n",
        "print(df.head(10))\r\n",
        "\r\n",
        "print('##################################################################')\r\n",
        "# sepal_length가 5.0보다 큰 로우만 보기 = loc\r\n",
        "df.loc[df['sepal_length'] > 5.0]"
      ],
      "execution_count": null,
      "outputs": [
        {
          "output_type": "stream",
          "text": [
            "<class 'pandas.core.frame.DataFrame'>\n",
            "RangeIndex: 150 entries, 0 to 149\n",
            "Data columns (total 5 columns):\n",
            " #   Column        Non-Null Count  Dtype  \n",
            "---  ------        --------------  -----  \n",
            " 0   sepal_length  150 non-null    float64\n",
            " 1   sepal_width   150 non-null    float64\n",
            " 2   petal_length  150 non-null    float64\n",
            " 3   petal_width   150 non-null    float64\n",
            " 4   class         150 non-null    object \n",
            "dtypes: float64(4), object(1)\n",
            "memory usage: 6.0+ KB\n",
            "None\n",
            "##################################################################\n",
            "       sepal_length  sepal_width  petal_length  petal_width\n",
            "count    150.000000   150.000000    150.000000   150.000000\n",
            "mean       5.843333     3.054000      3.758667     1.198667\n",
            "std        0.828066     0.433594      1.764420     0.763161\n",
            "min        4.300000     2.000000      1.000000     0.100000\n",
            "25%        5.100000     2.800000      1.600000     0.300000\n",
            "50%        5.800000     3.000000      4.350000     1.300000\n",
            "75%        6.400000     3.300000      5.100000     1.800000\n",
            "max        7.900000     4.400000      6.900000     2.500000\n",
            "##################################################################\n",
            "   sepal_length  sepal_width  petal_length  petal_width        class\n",
            "0           5.1          3.5           1.4          0.2  Iris-setosa\n",
            "1           4.9          3.0           1.4          0.2  Iris-setosa\n",
            "2           4.7          3.2           1.3          0.2  Iris-setosa\n",
            "3           4.6          3.1           1.5          0.2  Iris-setosa\n",
            "4           5.0          3.6           1.4          0.2  Iris-setosa\n",
            "5           5.4          3.9           1.7          0.4  Iris-setosa\n",
            "6           4.6          3.4           1.4          0.3  Iris-setosa\n",
            "7           5.0          3.4           1.5          0.2  Iris-setosa\n",
            "8           4.4          2.9           1.4          0.2  Iris-setosa\n",
            "9           4.9          3.1           1.5          0.1  Iris-setosa\n",
            "##################################################################\n"
          ],
          "name": "stdout"
        },
        {
          "output_type": "execute_result",
          "data": {
            "text/html": [
              "<div>\n",
              "<style scoped>\n",
              "    .dataframe tbody tr th:only-of-type {\n",
              "        vertical-align: middle;\n",
              "    }\n",
              "\n",
              "    .dataframe tbody tr th {\n",
              "        vertical-align: top;\n",
              "    }\n",
              "\n",
              "    .dataframe thead th {\n",
              "        text-align: right;\n",
              "    }\n",
              "</style>\n",
              "<table border=\"1\" class=\"dataframe\">\n",
              "  <thead>\n",
              "    <tr style=\"text-align: right;\">\n",
              "      <th></th>\n",
              "      <th>sepal_length</th>\n",
              "      <th>sepal_width</th>\n",
              "      <th>petal_length</th>\n",
              "      <th>petal_width</th>\n",
              "      <th>class</th>\n",
              "    </tr>\n",
              "  </thead>\n",
              "  <tbody>\n",
              "    <tr>\n",
              "      <th>0</th>\n",
              "      <td>5.1</td>\n",
              "      <td>3.5</td>\n",
              "      <td>1.4</td>\n",
              "      <td>0.2</td>\n",
              "      <td>Iris-setosa</td>\n",
              "    </tr>\n",
              "    <tr>\n",
              "      <th>5</th>\n",
              "      <td>5.4</td>\n",
              "      <td>3.9</td>\n",
              "      <td>1.7</td>\n",
              "      <td>0.4</td>\n",
              "      <td>Iris-setosa</td>\n",
              "    </tr>\n",
              "    <tr>\n",
              "      <th>10</th>\n",
              "      <td>5.4</td>\n",
              "      <td>3.7</td>\n",
              "      <td>1.5</td>\n",
              "      <td>0.2</td>\n",
              "      <td>Iris-setosa</td>\n",
              "    </tr>\n",
              "    <tr>\n",
              "      <th>14</th>\n",
              "      <td>5.8</td>\n",
              "      <td>4.0</td>\n",
              "      <td>1.2</td>\n",
              "      <td>0.2</td>\n",
              "      <td>Iris-setosa</td>\n",
              "    </tr>\n",
              "    <tr>\n",
              "      <th>15</th>\n",
              "      <td>5.7</td>\n",
              "      <td>4.4</td>\n",
              "      <td>1.5</td>\n",
              "      <td>0.4</td>\n",
              "      <td>Iris-setosa</td>\n",
              "    </tr>\n",
              "    <tr>\n",
              "      <th>...</th>\n",
              "      <td>...</td>\n",
              "      <td>...</td>\n",
              "      <td>...</td>\n",
              "      <td>...</td>\n",
              "      <td>...</td>\n",
              "    </tr>\n",
              "    <tr>\n",
              "      <th>145</th>\n",
              "      <td>6.7</td>\n",
              "      <td>3.0</td>\n",
              "      <td>5.2</td>\n",
              "      <td>2.3</td>\n",
              "      <td>Iris-virginica</td>\n",
              "    </tr>\n",
              "    <tr>\n",
              "      <th>146</th>\n",
              "      <td>6.3</td>\n",
              "      <td>2.5</td>\n",
              "      <td>5.0</td>\n",
              "      <td>1.9</td>\n",
              "      <td>Iris-virginica</td>\n",
              "    </tr>\n",
              "    <tr>\n",
              "      <th>147</th>\n",
              "      <td>6.5</td>\n",
              "      <td>3.0</td>\n",
              "      <td>5.2</td>\n",
              "      <td>2.0</td>\n",
              "      <td>Iris-virginica</td>\n",
              "    </tr>\n",
              "    <tr>\n",
              "      <th>148</th>\n",
              "      <td>6.2</td>\n",
              "      <td>3.4</td>\n",
              "      <td>5.4</td>\n",
              "      <td>2.3</td>\n",
              "      <td>Iris-virginica</td>\n",
              "    </tr>\n",
              "    <tr>\n",
              "      <th>149</th>\n",
              "      <td>5.9</td>\n",
              "      <td>3.0</td>\n",
              "      <td>5.1</td>\n",
              "      <td>1.8</td>\n",
              "      <td>Iris-virginica</td>\n",
              "    </tr>\n",
              "  </tbody>\n",
              "</table>\n",
              "<p>118 rows × 5 columns</p>\n",
              "</div>"
            ],
            "text/plain": [
              "     sepal_length  sepal_width  petal_length  petal_width           class\n",
              "0             5.1          3.5           1.4          0.2     Iris-setosa\n",
              "5             5.4          3.9           1.7          0.4     Iris-setosa\n",
              "10            5.4          3.7           1.5          0.2     Iris-setosa\n",
              "14            5.8          4.0           1.2          0.2     Iris-setosa\n",
              "15            5.7          4.4           1.5          0.4     Iris-setosa\n",
              "..            ...          ...           ...          ...             ...\n",
              "145           6.7          3.0           5.2          2.3  Iris-virginica\n",
              "146           6.3          2.5           5.0          1.9  Iris-virginica\n",
              "147           6.5          3.0           5.2          2.0  Iris-virginica\n",
              "148           6.2          3.4           5.4          2.3  Iris-virginica\n",
              "149           5.9          3.0           5.1          1.8  Iris-virginica\n",
              "\n",
              "[118 rows x 5 columns]"
            ]
          },
          "metadata": {
            "tags": []
          },
          "execution_count": 17
        }
      ]
    },
    {
      "cell_type": "code",
      "metadata": {
        "id": "ji9ZiFFmrSyi"
      },
      "source": [
        "# 판다스를 활용한 데이터 시각화. Matplotlib 이용\r\n",
        "import matplotlib.pyplot as plt\r\n",
        "\r\n",
        "# 클래스별로 마커 모양을 지정한다\r\n",
        "marker_shape = ['.', '^', '*']\r\n",
        "\r\n",
        "# 점차트를 그린다\r\n",
        "ax = plt.axes()\r\n",
        "for i, species in enumerate(df['class'].unique()): #unique는 해당 키값의 배열만 따로 구해줌. 0, 1, 2와 클래스 이름을 enum시켜준것\r\n",
        "  # class가 species인 애들만 필터로 거른 df자료들\r\n",
        "  species_data = df[df['class'] == species]\r\n",
        "  # setosa, versicolor, vriginica 순서대로 스캐터링된다.\r\n",
        "  species_data.plot.scatter(x='sepal_length', y='sepal_width', marker=marker_shape[i], s=100, title=\"Sepal Width vs Length by Species\", label = species, figsize=(10,7), ax=ax)\r\n",
        "\r\n",
        "\r\n",
        "plt.show()\r\n",
        "plt.clf()"
      ],
      "execution_count": null,
      "outputs": []
    },
    {
      "cell_type": "code",
      "metadata": {
        "colab": {
          "base_uri": "https://localhost:8080/",
          "height": 281
        },
        "id": "tQqsR6BowF_c",
        "outputId": "ae32db72-fbf1-4303-b8ec-6f1dbac34fa8"
      },
      "source": [
        "#히스토그램 그리기\r\n",
        "df['petal_length'].plot.hist(title=\"Histogram of Petal Length\")\r\n",
        "plt.show()\r\n",
        "\r\n",
        "print(\"다봉분포 (bimodal distribution)을 보인다. 특정 붓꽃의 꽃잎이 다른 품종보다 더 짧다\")"
      ],
      "execution_count": null,
      "outputs": [
        {
          "output_type": "display_data",
          "data": {
            "image/png": "[encoded data removed]",
            "text/plain": [
              "<Figure size 432x288 with 1 Axes>"
            ]
          },
          "metadata": {
            "tags": [],
            "needs_background": "light"
          }
        }
      ]
    },
    {
      "cell_type": "code",
      "metadata": {
        "colab": {
          "base_uri": "https://localhost:8080/",
          "height": 282
        },
        "id": "HqdB_xOJxpSp",
        "outputId": "618e0071-090e-4558-85ee-6203f3b0657a"
      },
      "source": [
        "# 상자차트 그리기\r\n",
        "\r\n",
        "# 제1사분위수, 중앙값, 제3사분위수를 사용해 그린다.\r\n",
        "\r\n",
        "df.plot.box(title=\"Boxplot of Sepal Length & Width, and Petal Length & Width\")\r\n",
        "plt.show()"
      ],
      "execution_count": null,
      "outputs": [
        {
          "output_type": "display_data",
          "data": {
            "image/png": "[encoded data removed]",
            "text/plain": [
              "<Figure size 432x288 with 1 Axes>"
            ]
          },
          "metadata": {
            "tags": [],
            "needs_background": "light"
          }
        }
      ]
    }
  ]
}