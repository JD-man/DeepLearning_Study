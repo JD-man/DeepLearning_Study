{
  "nbformat": 4,
  "nbformat_minor": 0,
  "metadata": {
    "colab": {
      "name": "Chapter1_Tf&Keras.ipynb",
      "provenance": [],
      "collapsed_sections": [],
      "authorship_tag": "ABX9TyPintOcwIkfkBmf6iRt5lZQ",
      "include_colab_link": true
    },
    "kernelspec": {
      "name": "python3",
      "display_name": "Python 3"
    }
  },
  "cells": [
    {
      "cell_type": "markdown",
      "metadata": {
        "id": "view-in-github",
        "colab_type": "text"
      },
      "source": [
        "<a href=\"https://colab.research.google.com/github/JD-man/DeepLearning_Study/blob/main/Chapter1/Chapter1_Tf%26Keras.ipynb\" target=\"_parent\"><img src=\"https://colab.research.google.com/assets/colab-badge.svg\" alt=\"Open In Colab\"/></a>"
      ]
    },
    {
      "cell_type": "code",
      "metadata": {
        "id": "Joj7VM9t-W7Q"
      },
      "source": [
        "# 케라스는 레이어, 옵티마이저, 손실 함수만 있으면 신경망을 만들 수 있다. 이 세개가 케라스의 기본 빌딩 블록이다.\r\n",
        "\r\n",
        "# 레이어 : 케라스 신경망의 최소 단위\r\n",
        "#          dense, activation, dropout, convolution, pooling 레이어 등을 지원한다\r\n",
        "\r\n",
        "# 모델 : 레이어의 집합. 케라스에서는 Sequentail 모델을 이용해 레이어를 쌓는다.\r\n",
        "\r\n",
        "# compile : 모델 설계를 마치면 compile 메서드를 이용해 훈련과정을 설정한다. compile 메서드를 사용할때 손실함수와 옵티마이저를 매개변수로 받는다.\r\n",
        "\r\n",
        "# 손실 함수 : 예측 결과가 얼마나 좋은지 평가한다.\r\n",
        "#             회귀문제에는 mean_squared_error, 다중 클래스 분류에는 categorical_crossentropy, 이진 클래스 분류에는 binary_crossentropy를 사용한다\r\n",
        "\r\n",
        "# 옵티마이저 : 가중치를 갱신하는 알고리즘. sgd, adam, adagrad 등이 있다."
      ],
      "execution_count": null,
      "outputs": []
    },
    {
      "cell_type": "code",
      "metadata": {
        "colab": {
          "base_uri": "https://localhost:8080/"
        },
        "id": "PQirLpbfM5LB",
        "outputId": "0225c274-0982-48a8-eff3-203917311dff"
      },
      "source": [
        "# 케라스로 신경망 만들기\r\n",
        "\r\n",
        "# 1. 빈 Sequential 모델 만들기\r\n",
        "from keras.models import Sequential\r\n",
        "model = Sequential()\r\n",
        "\r\n",
        "# 2. 레이어 추가하기\r\n",
        "from keras.layers import Dense\r\n",
        "model.add(Dense(units = 4, activation='sigmoid', input_dim = 3)) # 입력레이어, 첫번째 레어어에는 input_dim을 전달해야한다. 데이터셋의 칼럼이 몇개인지 지정하는것.\r\n",
        "model.add(Dense(units=1, activation='sigmoid')) #출력 레이어\r\n",
        "\r\n",
        "# 3.모델 아키텍쳐 검토하기\r\n",
        "print(model.summary())\r\n",
        "\r\n",
        "# 4. 컴파일하기\r\n",
        "from keras import optimizers\r\n",
        "sgd = optimizers.SGD(lr=1)\r\n",
        "model.compile(loss='mean_squared_error', optimizer=sgd)"
      ],
      "execution_count": null,
      "outputs": [
        {
          "output_type": "stream",
          "text": [
            "Model: \"sequential_6\"\n",
            "_________________________________________________________________\n",
            "Layer (type)                 Output Shape              Param #   \n",
            "=================================================================\n",
            "dense_3 (Dense)              (None, 4)                 16        \n",
            "_________________________________________________________________\n",
            "dense_4 (Dense)              (None, 1)                 5         \n",
            "=================================================================\n",
            "Total params: 21\n",
            "Trainable params: 21\n",
            "Non-trainable params: 0\n",
            "_________________________________________________________________\n",
            "None\n"
          ],
          "name": "stdout"
        }
      ]
    },
    {
      "cell_type": "code",
      "metadata": {
        "colab": {
          "base_uri": "https://localhost:8080/"
        },
        "id": "qR5Vf-Y9PcWT",
        "outputId": "387561fc-d7d9-4657-e2f1-ab493ba38164"
      },
      "source": [
        "# 데이터를 신경망에 학습시키기\r\n",
        "\r\n",
        "import numpy as np\r\n",
        "np.random.seed(9)\r\n",
        "X = np.array([[0,0,1],[0,1,1],[1,0,1],[1,1,1]])\r\n",
        "y = np.array([[0], [1], [1], [0]])\r\n",
        "\r\n",
        "model.fit(X, y, epochs=1500, verbose=False)"
      ],
      "execution_count": null,
      "outputs": [
        {
          "output_type": "execute_result",
          "data": {
            "text/plain": [
              "<tensorflow.python.keras.callbacks.History at 0x7fa77f45ffd0>"
            ]
          },
          "metadata": {
            "tags": []
          },
          "execution_count": 15
        }
      ]
    },
    {
      "cell_type": "code",
      "metadata": {
        "colab": {
          "base_uri": "https://localhost:8080/"
        },
        "id": "B7h70_XMQBPi",
        "outputId": "06d20e11-65c2-4fed-eb23-b08ac9b742f9"
      },
      "source": [
        "# 데이터를 전달해 예측값 얻기\r\n",
        "print(model.predict(X))"
      ],
      "execution_count": null,
      "outputs": [
        {
          "output_type": "stream",
          "text": [
            "[[0.072115  ]\n",
            " [0.9224814 ]\n",
            " [0.92174333]\n",
            " [0.08222499]]\n"
          ],
          "name": "stdout"
        }
      ]
    }
  ]
}