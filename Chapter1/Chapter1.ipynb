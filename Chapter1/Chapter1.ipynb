{
  "nbformat": 4,
  "nbformat_minor": 0,
  "metadata": {
    "colab": {
      "name": "Chapter1.ipynb",
      "provenance": [],
      "collapsed_sections": [],
      "authorship_tag": "ABX9TyMdWRAtLYPyyMUqqc9IB/zn",
      "include_colab_link": true
    },
    "kernelspec": {
      "name": "python3",
      "display_name": "Python 3"
    },
    "accelerator": "GPU"
  },
  "cells": [
    {
      "cell_type": "markdown",
      "metadata": {
        "id": "view-in-github",
        "colab_type": "text"
      },
      "source": [
        "<a href=\"https://colab.research.google.com/github/JD-man/DeepLearning_Study/blob/main/Chapter1/Chapter1.ipynb\" target=\"_parent\"><img src=\"https://colab.research.google.com/assets/colab-badge.svg\" alt=\"Open In Colab\"/></a>"
      ]
    },
    {
      "cell_type": "code",
      "metadata": {
        "colab": {
          "base_uri": "https://localhost:8080/"
        },
        "id": "zNvfiX8iiD8F",
        "outputId": "05982984-36a7-48d0-8087-5775684b3d66"
      },
      "source": [
        "#1.3.3 파이썬만으로 신경망 만들기 (p.33)\r\n",
        "\r\n",
        "import numpy as np\r\n",
        "\r\n",
        "def sigmoid(x):\r\n",
        "  return 1.0/(1+np.exp(-x))\r\n",
        "\r\n",
        "def sigmoid_derivative(x):\r\n",
        "  return x * (1.0 - x)\r\n",
        "\r\n",
        "class NeuralNetwork:\r\n",
        "  def __init__(self, x, y):\r\n",
        "    self.input = x\r\n",
        "    self.weight1 = np.random.rand(self.input.shape[1], 4) # 은닉층 가중치\r\n",
        "    self.weight2 = np.random.rand(4, 1)                   # 출력층 가중치\r\n",
        "    self.y = y\r\n",
        "    self.output = np.zeros(self.y.shape)\r\n",
        "    # 여기에서는 편향을 0이라고 가정함.\r\n",
        "\r\n",
        "  def feedforward(self):\r\n",
        "    self.layer1 = sigmoid(np.dot(self.input, self.weight1))\r\n",
        "    self.output = sigmoid(np.dot(self.layer1, self.weight2))\r\n",
        "\r\n",
        "  def backprop(self):\r\n",
        "    # weight2와 weight1에 따른 손실 함수의 미분을 찾기 위해 연쇄 법칙 활용. 손실함수로 Sum of Squares Error (SSE) 사용\r\n",
        "\r\n",
        "    d_weight2 = np.dot(self.layer1.T, (2*(self.y - self.output) * sigmoid_derivative(self.output)))\r\n",
        "    d_weight1 = np.dot(self.input.T, (np.dot(2*(self.y - self.output) * sigmoid_derivative(self.output), self.weight2.T) * sigmoid_derivative(self.layer1)))\r\n",
        "\r\n",
        "    self.weight1 += d_weight1\r\n",
        "    self.weight2 += d_weight2\r\n",
        "\r\n",
        "if __name__ == \"__main__\":\r\n",
        "  X = np.array([[0,0,1], [0,1,1], [1,0,1], [1,1,1]])\r\n",
        "  y = np.array([[0], [1], [1], [0]])\r\n",
        "  nn = NeuralNetwork(X, y)\r\n",
        "\r\n",
        "  for i in range(1500):\r\n",
        "    nn.feedforward()\r\n",
        "    nn.backprop()\r\n",
        "  \r\n",
        "  print(nn.output)\r\n",
        "\r\n",
        "\r\n"
      ],
      "execution_count": null,
      "outputs": [
        {
          "output_type": "stream",
          "text": [
            "[[0.01197464]\n",
            " [0.97712804]\n",
            " [0.97371348]\n",
            " [0.02766766]]\n"
          ],
          "name": "stdout"
        }
      ]
    }
  ]
}