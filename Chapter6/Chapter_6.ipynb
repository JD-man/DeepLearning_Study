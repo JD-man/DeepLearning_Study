{
  "nbformat": 4,
  "nbformat_minor": 0,
  "metadata": {
    "colab": {
      "name": "Chapter 6.ipynb",
      "provenance": [],
      "collapsed_sections": [],
      "authorship_tag": "ABX9TyM7UM7EYsdgzbfvjAAsoSfF",
      "include_colab_link": true
    },
    "kernelspec": {
      "name": "python3",
      "display_name": "Python 3"
    },
    "accelerator": "GPU"
  },
  "cells": [
    {
      "cell_type": "markdown",
      "metadata": {
        "id": "view-in-github",
        "colab_type": "text"
      },
      "source": [
        "<a href=\"https://colab.research.google.com/github/JD-man/DeepLearning_Study/blob/main/Chapter6/Chapter_6.ipynb\" target=\"_parent\"><img src=\"https://colab.research.google.com/assets/colab-badge.svg\" alt=\"Open In Colab\"/></a>"
      ]
    },
    {
      "cell_type": "code",
      "metadata": {
        "id": "C64jOVh0d2Il"
      },
      "source": [
        "# 시퀀스 문제\r\n",
        "\r\n",
        "# 머신 러닝 문제 중 하나, 특징 변수의 순서가 예측에 중요한 비중을 차지하는 문제.\r\n",
        "# 자연어 처리, 감성 분석, 기계 번역, 다음 단어 예측\r\n",
        "# 시계열 예측\r\n",
        "# 문장을 읽을 때 단어의 순서, 즉 시퀀스를 고려한다."
      ],
      "execution_count": null,
      "outputs": []
    },
    {
      "cell_type": "code",
      "metadata": {
        "id": "YBHd1TA6eYXs"
      },
      "source": [
        "# 자연어 처리\r\n",
        "\r\n",
        "# 1950년대 초반 : 규칙 기반 방식, 이 방식은 한 언어의 규칙을 다른 언어의 규칙으로 변환할 수 없어 확장성이 부족했다.\r\n",
        "# 최근 : 신경망이 적용. 여러 IT 대기업 등에 사용됨\r\n",
        "\r\n",
        "# 감성분석 또한 자연어 처리 분야로 문장의 긍정도를 판별하는 기법이다. 회구가 아닌 분류(긍정, 중립, 부정)으로 접근한다.\r\n",
        "# 고객 리뷰 분석, 뉴스의 감성 분석을 통한 주식 거래 등에 사용된다."
      ],
      "execution_count": null,
      "outputs": []
    },
    {
      "cell_type": "code",
      "metadata": {
        "id": "P148gydUfXrb"
      },
      "source": [
        "# 감성 분석이 어려운 이유\r\n",
        "\r\n",
        "# 1. 아래의 두 fire를 보면 1번은 부정, 2번은 긍정적이다. 감성분석은 단어라도 문맥에 따라 전혀 다른 의미를 가질 수 있어서 어렵다.\r\n",
        "#   The building is on fire\r\n",
        "#   I am on fire today\r\n",
        "\r\n",
        "# 2. 비꼬는 어투를 감지하기 힘들다.\r\n",
        "# 내 짐을 잃어버려서 참으로 고맙네요! 고객 서비스가 정말 최고에요!\r\n",
        "# 단어는 긍정적이지만 전체적인 감성은 부정적이다."
      ],
      "execution_count": null,
      "outputs": []
    },
    {
      "cell_type": "code",
      "metadata": {
        "id": "NwdTRBTQf6eb"
      },
      "source": [
        "# RNN 신경망\r\n",
        "\r\n",
        "# 다중 레이어 퍼셉트론, 전방향 신경망, CNN 등은 이미지와 같이 고정된 벡터를 입력받아 고정된 형태의 또 다른 벡터를 출력한다.\r\n",
        "# 고정된 벡터만 다루는 것은 시퀀스 데이터에 적합하지 않다.\r\n",
        "# 시퀀스 데이터를 다루려면 데이터가 등장한 순서 그대로 읽어들여 하나씩 처리해야한다. RNN은 이 동작을 수행한다."
      ],
      "execution_count": null,
      "outputs": []
    },
    {
      "cell_type": "code",
      "metadata": {
        "id": "3h4o4cqoggbK"
      },
      "source": [
        "# RNN의 구조\r\n",
        "\r\n",
        "# 한 문장을 단어 여러 단위로 나눠 RNN에 입력한다.\r\n",
        "# 나눈 단어들은 레이어의 입력데이터가 된다.\r\n",
        "# RNN의 레이어는 출력을 다음 레이어로 전달한다. 이러한 중간 출력을 은닉 상태(hidden state)라고 한다.\r\n",
        "# 은닉 상태를 사용해 시퀀스 데이터의 중간 결과를 기억할 수 있다.\r\n",
        "\r\n",
        "# 레이어는 시간 t의 입력과 시간 t-1의 은닉상태를 입력받는다.\r\n",
        "# RNN 레이어는 이 두 입력을 더한 다음 tanh 함수를 적용하고 출력을 낸다. 그 출력은 다음 레이어에 전달한다.\r\n",
        "\r\n",
        "# tanh함수는 입력값을 -1 ~ 1 사이로 줄이는 역할을 한다.\r\n",
        "# 가중치가 빠르게 발산하지 않도록 보장하므로 입력과 은닉 상태를 조합하는 비선형 함수로 사용하기에 적당하다.\r\n",
        "# 손쉽게 미분할 수 있다는 장점도 있다.\r\n",
        "\r\n",
        "# 맨 마지막 레이어는 시그모이드 함수를 적용한다.\r\n",
        "# 시그모이드 함수는 0 ~ 1 사이 결과값을 출력해 클래스 예측 확률을 계산한다."
      ],
      "execution_count": null,
      "outputs": []
    },
    {
      "cell_type": "code",
      "metadata": {
        "id": "c3aGmzwfhXSl"
      },
      "source": [
        "# RNN의 단기의존성과 장기의존성\r\n",
        "\r\n",
        "# The movie is good today\r\n",
        "#  1   2    3   4     5\r\n",
        "# RNN은 이 5개의 입력을 받고 출력 전 네번째 입력에서 영화에 대한 감성을 알 수 있다.\r\n",
        "# 이 시퀀스 데이터는 단기의존성(short dependency)가 있다.\r\n",
        "\r\n",
        "# I really liked the movie but I was disappointed in the service and cleanlinesee of the cinema. ~~~~\r\n",
        "# 영화에 관해서 가장 중요한 단어인 liked the movie 부분은 출력과 거리가 멀다.\r\n",
        "# 이 시퀀스 데이터는 장기의존성이 있다.\r\n",
        "\r\n",
        "# RNN은 장기 의존성을 가진 시퀀스에 적합하지 않다. 단기 기억력은 좋지만 장기 기억력은 좋지 않다.\r\n",
        "# 경사 소실 문제가 있기 때문이다."
      ],
      "execution_count": null,
      "outputs": []
    },
    {
      "cell_type": "code",
      "metadata": {
        "id": "DTUP4jzUlhpq"
      },
      "source": [
        "# 경사 소실 문제 (vanishing gradient problem)\r\n",
        "\r\n",
        "# 역전파와 같이 경사를 사용하는 기법으로 심층 신경망을 훈련시킬 때 경사 소실 문제가 발생한다.\r\n",
        "# 실제로는 레이어를 거슬러 올라가면서 손실이 잘 전달되지 않는 경향이 있다.\r\n",
        "# 이러면 레이어의 가중치를 크게 바꾸지 못한다. 작은 손실 값으로는 앞 단에 있는 레이어를 훈련시키기 어렵다.\r\n",
        "# CNN에서는 경사 소실 문제가 없다. 하지만 시퀀스 데이터와 RNN에서는 경사 소실 문제가 지대한 영향을 미친다.\r\n",
        "# 경사 소실 문제로 인해 앞 단 레이어를 제대로 학습시킬 수 없으므로 장기 의존성에 취약하다는 말이다.\r\n",
        "# 경사 소실 문제를 해결하기 위해 RNN을 변형한 LSTM 신경망이 제안됐다."
      ],
      "execution_count": null,
      "outputs": []
    },
    {
      "cell_type": "code",
      "metadata": {
        "id": "tG3GuAZYmdNW"
      },
      "source": [
        "# LSTM 신경망\r\n",
        "\r\n",
        "# I loved this movie! The action sequences were on point and the acting was terrific. Highly recommended!\r\n",
        "# 위의 문장에서 중요한 부분은 loved, on point, terrific, Highly recommended이다.\r\n",
        "# RNN은 모든 문장을 기억하려하므로 장기의존성에 약하지만, LSTM은 중요 정보를 선별적으로 기억해 대처한다."
      ],
      "execution_count": null,
      "outputs": []
    },
    {
      "cell_type": "code",
      "metadata": {
        "id": "eEZHt2bRoGB4"
      },
      "source": [
        "# LSTM의 내부구조\r\n",
        "\r\n",
        "# LSTM은 은닉 상태와 셀 상태가 있다. 셀 상태는 현재 메모리라고 볼 수 있다.\r\n",
        "# 특정 시점에서 기억해야할 중요한 정보를 다음 시점으로 전달한다.\r\n",
        "# 은닉 상태는 LSTM 전바에 걸쳐 기억하는 전체 메모리다.\r\n",
        "\r\n",
        "# 망각 게이트(forget gate), 입력 게이트(input gate), 출력 게이트(output gate)를 통해 셀상태와 은닉상태를 관리한다."
      ],
      "execution_count": null,
      "outputs": []
    },
    {
      "cell_type": "code",
      "metadata": {
        "id": "ZYaR54Xookcp"
      },
      "source": [
        "# 망각 게이트는 이전 은닉 상태와 현재 입력 벡터를 합쳐 시그모이드 함수에 전달한다.\r\n",
        "# 결과가 0이면 망각 1이면 기억이다.\r\n",
        "\r\n",
        "# 입력 게이트는 현재 셀 상태로 전달할 정보량을 조절한다.\r\n",
        "# 이전 은닉상 상태와 현재 입력 벡터를 합쳐 복사해 시그모이드 함수와 쌍곡탄젠트 함수에 전달하고 결과를 곱한다.\r\n",
        "\r\n",
        "# 현재 셀상태는 (이전 셀상태 * 망각 게이트값) + 입력게이트 값 으로 계산된다.\r\n",
        "\r\n",
        "# 출력 게이트는 은닉 상태에 남길 정보량을 조절한다.\r\n",
        "# 이전 은닉 상태와 현재 입력을 합쳐 시그모이드 함수에 전달한다.\r\n",
        "# 그 다음 현재 셀 상태를 가져다 tanh함수에 적용한다.\r\n",
        "# 이 두 결과를 곱해서 현재 은닉 상태를 계산하고 다음 유닛으로 보낸다.\r\n",
        "\r\n",
        "# 이론을 이해하는 것도 좋지만 이론과 통찰을 연결 짓는게 쉽지 않을 수 있다(도움도안됨)\r\n",
        "# LSTM을 대략적으로만 이해하고 블랙박스 알고리즘처럼 적용하는 편이 더 효율적이다."
      ],
      "execution_count": null,
      "outputs": []
    },
    {
      "cell_type": "code",
      "metadata": {
        "colab": {
          "base_uri": "https://localhost:8080/"
        },
        "id": "Ll8vG-jWptqn",
        "outputId": "c6f76d0b-8776-4489-f5a0-19b736a1a95a"
      },
      "source": [
        "# IMDb 영화 리뷰 데이터셋\r\n",
        "\r\n",
        "# 유명 사이트에 달린 영화 리뷰 데이터셋이다. 긍정은 1, 부정은 0이다.\r\n",
        "# 케라스에서 IMDb 데이터셋을 기본으로 제공한다.\r\n",
        "\r\n",
        "from keras.datasets import imdb\r\n",
        "training_set, testing_set = imdb.load_data(index_from = 3)\r\n",
        "X_train, y_train = training_set\r\n",
        "X_test, y_test = testing_set"
      ],
      "execution_count": null,
      "outputs": [
        {
          "output_type": "stream",
          "text": [
            "<string>:6: VisibleDeprecationWarning: Creating an ndarray from ragged nested sequences (which is a list-or-tuple of lists-or-tuples-or ndarrays with different lengths or shapes) is deprecated. If you meant to do this, you must specify 'dtype=object' when creating the ndarray\n",
            "/usr/local/lib/python3.6/dist-packages/tensorflow/python/keras/datasets/imdb.py:159: VisibleDeprecationWarning: Creating an ndarray from ragged nested sequences (which is a list-or-tuple of lists-or-tuples-or ndarrays with different lengths or shapes) is deprecated. If you meant to do this, you must specify 'dtype=object' when creating the ndarray\n",
            "  x_train, y_train = np.array(xs[:idx]), np.array(labels[:idx])\n",
            "/usr/local/lib/python3.6/dist-packages/tensorflow/python/keras/datasets/imdb.py:160: VisibleDeprecationWarning: Creating an ndarray from ragged nested sequences (which is a list-or-tuple of lists-or-tuples-or ndarrays with different lengths or shapes) is deprecated. If you meant to do this, you must specify 'dtype=object' when creating the ndarray\n",
            "  x_test, y_test = np.array(xs[idx:]), np.array(labels[idx:])\n"
          ],
          "name": "stderr"
        }
      ]
    },
    {
      "cell_type": "code",
      "metadata": {
        "colab": {
          "base_uri": "https://localhost:8080/"
        },
        "id": "BGEdcPB1qdwO",
        "outputId": "75e68970-f304-4286-e093-51c6812648a4"
      },
      "source": [
        "# 맨 처음 리뷰를 예시로 출력\r\n",
        "\r\n",
        "print(X_train[0])"
      ],
      "execution_count": null,
      "outputs": [
        {
          "output_type": "stream",
          "text": [
            "[1, 14, 22, 16, 43, 530, 973, 1622, 1385, 65, 458, 4468, 66, 3941, 4, 173, 36, 256, 5, 25, 100, 43, 838, 112, 50, 670, 22665, 9, 35, 480, 284, 5, 150, 4, 172, 112, 167, 21631, 336, 385, 39, 4, 172, 4536, 1111, 17, 546, 38, 13, 447, 4, 192, 50, 16, 6, 147, 2025, 19, 14, 22, 4, 1920, 4613, 469, 4, 22, 71, 87, 12, 16, 43, 530, 38, 76, 15, 13, 1247, 4, 22, 17, 515, 17, 12, 16, 626, 18, 19193, 5, 62, 386, 12, 8, 316, 8, 106, 5, 4, 2223, 5244, 16, 480, 66, 3785, 33, 4, 130, 12, 16, 38, 619, 5, 25, 124, 51, 36, 135, 48, 25, 1415, 33, 6, 22, 12, 215, 28, 77, 52, 5, 14, 407, 16, 82, 10311, 8, 4, 107, 117, 5952, 15, 256, 4, 31050, 7, 3766, 5, 723, 36, 71, 43, 530, 476, 26, 400, 317, 46, 7, 4, 12118, 1029, 13, 104, 88, 4, 381, 15, 297, 98, 32, 2071, 56, 26, 141, 6, 194, 7486, 18, 4, 226, 22, 21, 134, 476, 26, 480, 5, 144, 30, 5535, 18, 51, 36, 28, 224, 92, 25, 104, 4, 226, 65, 16, 38, 1334, 88, 12, 16, 283, 5, 16, 4472, 113, 103, 32, 15, 16, 5345, 19, 178, 32]\n"
          ],
          "name": "stdout"
        }
      ]
    },
    {
      "cell_type": "code",
      "metadata": {
        "colab": {
          "base_uri": "https://localhost:8080/"
        },
        "id": "anY2wsm5qmV-",
        "outputId": "9ae448f5-3f3e-42f9-9845-75beb8529a44"
      },
      "source": [
        "# 단어가 아닌 숫자로 나오는 이유는 단어를 숫자로 이미 인코딩했기 때문이다.\r\n",
        "# 케라스에 내장된 딕셔너리를 이용해 원본을 출력할 수 있다.\r\n",
        "\r\n",
        "word_to_id = imdb.get_word_index()\r\n",
        "word_to_id = {key:(value+3) for key, value in word_to_id.items()}\r\n",
        "word_to_id[\"<Pad>\"] = 0\r\n",
        "word_to_id[\"<START>\"] = 1\r\n",
        "id_to_word = {value:key for key, value in word_to_id.items()}\r\n",
        "\r\n",
        "print(' '.join(id_to_word[id] for id in X_train[159]))"
      ],
      "execution_count": null,
      "outputs": [
        {
          "output_type": "stream",
          "text": [
            "<START> a rating of 1 does not begin to express how dull depressing and relentlessly bad this movie is\n"
          ],
          "name": "stdout"
        }
      ]
    },
    {
      "cell_type": "code",
      "metadata": {
        "colab": {
          "base_uri": "https://localhost:8080/"
        },
        "id": "ERytgIWirc-4",
        "outputId": "9fd31c84-fb67-434d-b148-a58a6c4fe86e"
      },
      "source": [
        "# 이 리뷰에 대한 감성을 출력해본다.\r\n",
        "print(y_train[159])"
      ],
      "execution_count": null,
      "outputs": [
        {
          "output_type": "stream",
          "text": [
            "0\n"
          ],
          "name": "stdout"
        }
      ]
    },
    {
      "cell_type": "code",
      "metadata": {
        "id": "fK6Vp7vvriS5"
      },
      "source": [
        "# 단어의 벡터 표현\r\n",
        "\r\n",
        "# 원핫 인코딩\r\n",
        "# 자연어 처리에 원핫인코딩을 적용하면 단어의 개수가 축의 개수가 된다.\r\n",
        "# Happy / Excited / Happy, excited 세개의 표현이 있을때\r\n",
        "# Happy (1,0) / Excited (0,1) / Happy, excited (1,1) 이 된다.\r\n",
        "\r\n",
        "# 영어 사전만 봐도 단어가 수만개는 넘기 때문에 수만 차원의 벡터를 만들어야한다.\r\n",
        "# 대부분의 단어나 문장이 잘해야 한번 등장하므로 빈값(0)이 많은 희소벡터(sparse vector)가 될 가능성이 높다.\r\n",
        "# 희소벡터로는 신경망을 훈련시키기 어렵고, 단어 사이의 유사도를 고려할 수 없다. 단어의 중요정보를 잃게 된다."
      ],
      "execution_count": null,
      "outputs": []
    },
    {
      "cell_type": "code",
      "metadata": {
        "id": "Oq3qvYJAsv3K"
      },
      "source": [
        "# 단어 임베딩\r\n",
        "\r\n",
        "# 단어 임베딩은 단어를 더 나은 벡터로 표현하는 방법을 학습하는 기법이다.\r\n",
        "# 벡터 차원이 더 작고 유사한 단어들이 서로 가깝게 놓이기 때문에 더 낫다.\r\n",
        "# 단어 임베딩은 지도학습으로 훈련시키고 케라스 API로 직접 훈련시킬 수 있다."
      ],
      "execution_count": null,
      "outputs": []
    },
    {
      "cell_type": "code",
      "metadata": {
        "id": "q6RhfsDOtB_G"
      },
      "source": [
        "# 모델 아키텍쳐\r\n",
        "\r\n",
        "# 입력 -> 단어 임베딩 레이어 -> LSTM 레이어 -> Dense 레이어 -> 출력\r\n",
        "\r\n",
        "# 입력\r\n",
        "# 영화 리뷰 데이터셋의 문장은 길이가 제각각 다르다. 신경망의 길이는 일정하므로 이 문제를 해결해야한다.\r\n",
        "\r\n",
        "# 단어 임베딩 레이어\r\n",
        "# 첫번째 레이어로 단어 임베딩 레이어를 사용한다.\r\n",
        "# 단어를 벡터로 표현하는 방법을 학습하는 기법이다.\r\n",
        "# 단어를 입력받아 단어를 표현하는 벡터를 출력한다.\r\n",
        "# 유사한 단어들의 벡터는 서로 가까워야 한다.\r\n",
        "\r\n",
        "# LSTM 레이어\r\n",
        "# 단어 임베딩 레이어가 출력한 단어 벡터를 입력받아 벡터의 긍부정을 분류하는 방법을 학습한다.\r\n",
        "\r\n",
        "# 완전연결레이어, 출력\r\n",
        "# 완전연결레이어에서 LSTM 레이어가 출력한 결과를 처리하고 출력에서 0 ~ 1사이 값으로 긍부정을 판단한다."
      ],
      "execution_count": null,
      "outputs": []
    },
    {
      "cell_type": "code",
      "metadata": {
        "colab": {
          "base_uri": "https://localhost:8080/"
        },
        "id": "AqbiauDCuEIS",
        "outputId": "4b7910c0-6652-44c2-ab1d-ed3e5612178a"
      },
      "source": [
        "from keras.datasets import imdb\r\n",
        "\r\n",
        "# imdb의 load_data에서 num_words를 지정할 수 있다. 데이터 셋에 저장된 순서대로 단어 n개를 가져온다.\r\n",
        "# n이 낮으면 정확도는 낮지만 빠르게 훈련시킬 수 있다.\r\n",
        "\r\n",
        "training_set, testing_set = imdb.load_data(num_words=10000)\r\n",
        "X_train, y_train = training_set\r\n",
        "X_test, y_test = testing_set"
      ],
      "execution_count": null,
      "outputs": [
        {
          "output_type": "stream",
          "text": [
            "<string>:6: VisibleDeprecationWarning: Creating an ndarray from ragged nested sequences (which is a list-or-tuple of lists-or-tuples-or ndarrays with different lengths or shapes) is deprecated. If you meant to do this, you must specify 'dtype=object' when creating the ndarray\n",
            "/usr/local/lib/python3.6/dist-packages/tensorflow/python/keras/datasets/imdb.py:159: VisibleDeprecationWarning: Creating an ndarray from ragged nested sequences (which is a list-or-tuple of lists-or-tuples-or ndarrays with different lengths or shapes) is deprecated. If you meant to do this, you must specify 'dtype=object' when creating the ndarray\n",
            "  x_train, y_train = np.array(xs[:idx]), np.array(labels[:idx])\n",
            "/usr/local/lib/python3.6/dist-packages/tensorflow/python/keras/datasets/imdb.py:160: VisibleDeprecationWarning: Creating an ndarray from ragged nested sequences (which is a list-or-tuple of lists-or-tuples-or ndarrays with different lengths or shapes) is deprecated. If you meant to do this, you must specify 'dtype=object' when creating the ndarray\n",
            "  x_test, y_test = np.array(xs[idx:]), np.array(labels[idx:])\n"
          ],
          "name": "stderr"
        }
      ]
    },
    {
      "cell_type": "code",
      "metadata": {
        "colab": {
          "base_uri": "https://localhost:8080/"
        },
        "id": "E9_qL9iPuiL7",
        "outputId": "9f028183-6ca6-4d79-b599-ec43a7884a15"
      },
      "source": [
        "# 데이터 크기 출력\r\n",
        "\r\n",
        "print(\"Number of training samples = {}\".format(X_train.shape[0]))\r\n",
        "print(\"Number of training samples = {}\".format(X_test.shape[0]))"
      ],
      "execution_count": null,
      "outputs": [
        {
          "output_type": "stream",
          "text": [
            "Number of training samples = 25000\n",
            "Number of training samples = 25000\n"
          ],
          "name": "stdout"
        }
      ]
    },
    {
      "cell_type": "code",
      "metadata": {
        "colab": {
          "base_uri": "https://localhost:8080/"
        },
        "id": "G46euJmru48C",
        "outputId": "5bbf4d6e-c36f-44a2-b237-128ff87b66d6"
      },
      "source": [
        "# 제로 패딩\r\n",
        "\r\n",
        "# 입력을 정해진 크기의 벡터로 입력해야한다.\r\n",
        "# 영화 리뷰의 최대 길이를 maxlen 매개변수로 정의해 해결한다.\r\n",
        "# maxlen보다 긴 리뷰는 자르고 maxlen보다 짧은 리뷰에는 0을 채운다. 이 과정을 제로 패딩이라고 한다.\r\n",
        "\r\n",
        "# 케라스의 preprocessing 모듈의 sequence를 사용해 적용한다.\r\n",
        "\r\n",
        "from keras.preprocessing import sequence\r\n",
        "\r\n",
        "X_train_padded = sequence.pad_sequences(X_train, maxlen = 100)\r\n",
        "X_test_padded = sequence.pad_sequences(X_test, maxlen = 100)\r\n",
        "\r\n",
        "print(\"X_train vector shape = {}\".format(X_train_padded.shape))\r\n",
        "print(\"X_test vector shape = {}\".format(X_test_padded.shape))"
      ],
      "execution_count": null,
      "outputs": [
        {
          "output_type": "stream",
          "text": [
            "X_train vector shape = (25000, 100)\n",
            "X_test vector shape = (25000, 100)\n"
          ],
          "name": "stdout"
        }
      ]
    },
    {
      "cell_type": "code",
      "metadata": {
        "id": "LDAU3ttOv4CN"
      },
      "source": [
        "# from keras.models import Sequential\r\n",
        "\r\n",
        "# # 모델 생성\r\n",
        "# model = Sequential()"
      ],
      "execution_count": null,
      "outputs": []
    },
    {
      "cell_type": "code",
      "metadata": {
        "id": "-z6Jdl-zwwho"
      },
      "source": [
        "# # 임베딩 레이어 생성\r\n",
        "# # input_dim : 임베딩 레이어의 입력 벡터 차원을 지정한다. 데이터셋에 있는 단어의 고유 개수와 동일해야한다. imdb의 num_word값을 그대로 사용한다.\r\n",
        "# # output_dim : 워드 임베딩 레이어의 출력 벡터 차원을 지정한다.\r\n",
        "# from keras.layers import Embedding\r\n",
        "\r\n",
        "# model.add(Embedding(input_dim = 10000, output_dim = 128))"
      ],
      "execution_count": null,
      "outputs": []
    },
    {
      "cell_type": "code",
      "metadata": {
        "id": "shu-gxIHwztd"
      },
      "source": [
        "# # LSTM 레이어 생성\r\n",
        "# # units : LSTM 레이어의 반복 유닛 수를 지정한다. 많을수록 모델 복잡도가 증가, 훈련 시간 증가, 과적합 발생 확률 증가.\r\n",
        "# # activation : 셀 상태와 은닉 상태에 사용할 활성화 함수를 지정한다. 지정안하면 tanh 함수.\r\n",
        "# # recurrent_activation : 망각, 입력, 출력 게이트에 적용할 활성화 함수를 지정한다. 안하면 시그모이드 함수.\r\n",
        "\r\n",
        "# from keras.layers import LSTM\r\n",
        "\r\n",
        "# model.add(LSTM(units = 128))"
      ],
      "execution_count": null,
      "outputs": []
    },
    {
      "cell_type": "code",
      "metadata": {
        "id": "WQ7CZZB9xWPP"
      },
      "source": [
        "# # 마지막으로 Dense 레이어 추가\r\n",
        "\r\n",
        "# from keras.layers import Dense\r\n",
        "# model.add(Dense(units = 1, activation = 'sigmoid'))"
      ],
      "execution_count": null,
      "outputs": []
    },
    {
      "cell_type": "code",
      "metadata": {
        "id": "iCihoKv3x_3N"
      },
      "source": [
        "# # 모델 확인\r\n",
        "\r\n",
        "# model.summary()"
      ],
      "execution_count": null,
      "outputs": []
    },
    {
      "cell_type": "code",
      "metadata": {
        "id": "-0Mj-w76yE9Q"
      },
      "source": [
        "# # 컴파일 후 훈련\r\n",
        "\r\n",
        "# model.compile(loss = 'binary_crossentropy', optimizer = 'RMSprop')\r\n",
        "# scores = model.fit(x=X_train_padded, y = y_train, batch_size = 128, epochs = 10, validation_data=(X_test_padded, y_test))"
      ],
      "execution_count": null,
      "outputs": []
    },
    {
      "cell_type": "code",
      "metadata": {
        "id": "Ef786Y120g2e"
      },
      "source": [
        "# for key in scores.history.keys():\r\n",
        "#   print(key)"
      ],
      "execution_count": null,
      "outputs": []
    },
    {
      "cell_type": "code",
      "metadata": {
        "id": "Hq6a9PO4zT9i"
      },
      "source": [
        "# # score에는 훈련 손실, 검증 손실, 에폭별 손실 값 등을 담은 파이썬 딕셔너리이다.\r\n",
        "# # 결과를 출력해본다.\r\n",
        "\r\n",
        "# import matplotlib.pyplot as plt\r\n",
        "\r\n",
        "# plt.plot(range(1,11), scores.history['loss'], label = 'Training Loss')\r\n",
        "# plt.plot(range(1,11), scores.history['val_loss'], label = 'Validation Loss')\r\n",
        "# plt.axis([1, 10, 0, 1])\r\n",
        "# plt.xlabel('Epoch')\r\n",
        "# plt.ylabel('Loss')\r\n",
        "# plt.title('Train and Validation Accuracy using RMSprop Optimizer')\r\n",
        "# plt.legend()\r\n",
        "# plt.show()"
      ],
      "execution_count": null,
      "outputs": []
    },
    {
      "cell_type": "code",
      "metadata": {
        "colab": {
          "base_uri": "https://localhost:8080/"
        },
        "id": "yc1nuYfJ1JwX",
        "outputId": "9512cfdf-bd0e-4ddc-fc00-fd651bcd95cf"
      },
      "source": [
        "from keras.models import Sequential\r\n",
        "from keras.layers import Embedding\r\n",
        "from keras.layers import LSTM\r\n",
        "from keras.layers import Dense\r\n",
        "model4 = Sequential()\r\n",
        "model4.add(Embedding(input_dim = 10000, output_dim = 128))\r\n",
        "model4.add(LSTM(units = 128))\r\n",
        "model4.add(Dense(units = 1, activation = 'sigmoid'))\r\n",
        "model4.summary()"
      ],
      "execution_count": null,
      "outputs": [
        {
          "output_type": "stream",
          "text": [
            "Model: \"sequential\"\n",
            "_________________________________________________________________\n",
            "Layer (type)                 Output Shape              Param #   \n",
            "=================================================================\n",
            "embedding (Embedding)        (None, None, 128)         1280000   \n",
            "_________________________________________________________________\n",
            "lstm (LSTM)                  (None, 128)               131584    \n",
            "_________________________________________________________________\n",
            "dense (Dense)                (None, 1)                 129       \n",
            "=================================================================\n",
            "Total params: 1,411,713\n",
            "Trainable params: 1,411,713\n",
            "Non-trainable params: 0\n",
            "_________________________________________________________________\n"
          ],
          "name": "stdout"
        }
      ]
    },
    {
      "cell_type": "code",
      "metadata": {
        "colab": {
          "base_uri": "https://localhost:8080/"
        },
        "id": "Dha6GORR2cKq",
        "outputId": "388296cc-487b-466d-ecba-287d9040fbcd"
      },
      "source": [
        "model4.compile(loss = 'binary_crossentropy', optimizer = 'adam', metrics=['accuracy'])\r\n",
        "scores4 = model4.fit(x=X_train_padded, y = y_train, batch_size = 128, epochs = 10, validation_data=(X_test_padded, y_test))"
      ],
      "execution_count": null,
      "outputs": [
        {
          "output_type": "stream",
          "text": [
            "Epoch 1/10\n",
            "196/196 [==============================] - 10s 33ms/step - loss: 0.5362 - accuracy: 0.7085 - val_loss: 0.3451 - val_accuracy: 0.8500\n",
            "Epoch 2/10\n",
            "196/196 [==============================] - 6s 28ms/step - loss: 0.2665 - accuracy: 0.8958 - val_loss: 0.3470 - val_accuracy: 0.8495\n",
            "Epoch 3/10\n",
            "196/196 [==============================] - 6s 29ms/step - loss: 0.1883 - accuracy: 0.9321 - val_loss: 0.3840 - val_accuracy: 0.8380\n",
            "Epoch 4/10\n",
            "196/196 [==============================] - 6s 28ms/step - loss: 0.1325 - accuracy: 0.9521 - val_loss: 0.4157 - val_accuracy: 0.8350\n",
            "Epoch 5/10\n",
            "196/196 [==============================] - 6s 28ms/step - loss: 0.0916 - accuracy: 0.9701 - val_loss: 0.5237 - val_accuracy: 0.8316\n",
            "Epoch 6/10\n",
            "196/196 [==============================] - 6s 28ms/step - loss: 0.0751 - accuracy: 0.9753 - val_loss: 0.6310 - val_accuracy: 0.8252\n",
            "Epoch 7/10\n",
            "196/196 [==============================] - 6s 29ms/step - loss: 0.0676 - accuracy: 0.9783 - val_loss: 0.6873 - val_accuracy: 0.8235\n",
            "Epoch 8/10\n",
            "196/196 [==============================] - 6s 28ms/step - loss: 0.0475 - accuracy: 0.9864 - val_loss: 0.8133 - val_accuracy: 0.8199\n",
            "Epoch 9/10\n",
            "196/196 [==============================] - 6s 28ms/step - loss: 0.0418 - accuracy: 0.9871 - val_loss: 0.7139 - val_accuracy: 0.8161\n",
            "Epoch 10/10\n",
            "196/196 [==============================] - 6s 28ms/step - loss: 0.0426 - accuracy: 0.9871 - val_loss: 0.8090 - val_accuracy: 0.8210\n"
          ],
          "name": "stdout"
        }
      ]
    },
    {
      "cell_type": "code",
      "metadata": {
        "colab": {
          "base_uri": "https://localhost:8080/"
        },
        "id": "G5h0Fnsx2xZb",
        "outputId": "ce4c1cbf-c5b1-4532-9712-50d9e4737f8d"
      },
      "source": [
        "for key in scores4.history.keys():\r\n",
        "  print(key)"
      ],
      "execution_count": null,
      "outputs": [
        {
          "output_type": "stream",
          "text": [
            "loss\n",
            "accuracy\n",
            "val_loss\n",
            "val_accuracy\n"
          ],
          "name": "stdout"
        }
      ]
    },
    {
      "cell_type": "code",
      "metadata": {
        "colab": {
          "base_uri": "https://localhost:8080/",
          "height": 295
        },
        "id": "bnaBWnOd2Pze",
        "outputId": "1138a417-5c69-4516-fc6e-d0510ca9001a"
      },
      "source": [
        "import matplotlib.pyplot as plt\r\n",
        "plt.plot(range(1,11), scores4.history['accuracy'], label = 'Training Accuracy')\r\n",
        "plt.plot(range(1,11), scores4.history['val_accuracy'], label = 'Validation Accuracy')\r\n",
        "plt.axis([1, 10, 0, 1])\r\n",
        "plt.xlabel('Epoch')\r\n",
        "plt.ylabel('Accuracy')\r\n",
        "plt.title('Train and Validation Accuracy using Adam Optimizer')\r\n",
        "plt.legend()\r\n",
        "plt.show()"
      ],
      "execution_count": null,
      "outputs": [
        {
          "output_type": "display_data",
          "data": {
            "image/png": "[encoded data removed]",
            "text/plain": [
              "<Figure size 432x288 with 1 Axes>"
            ]
          },
          "metadata": {
            "tags": [],
            "needs_background": "light"
          }
        }
      ]
    },
    {
      "cell_type": "code",
      "metadata": {
        "colab": {
          "base_uri": "https://localhost:8080/",
          "height": 907
        },
        "id": "vztFB9Gl6SL6",
        "outputId": "1818aa58-562f-4d66-8b79-49efb015fb3e"
      },
      "source": [
        "# optimizer를 RMSprop 으로 변경\r\n",
        "model5 = Sequential()\r\n",
        "model5.add(Embedding(input_dim = 10000, output_dim = 128))\r\n",
        "model5.add(LSTM(units = 128))\r\n",
        "model5.add(Dense(units = 1, activation = 'sigmoid'))\r\n",
        "model5.summary()\r\n",
        "model5.compile(loss = 'binary_crossentropy', optimizer = 'RMSprop', metrics=['accuracy'])\r\n",
        "scores5 = model5.fit(x=X_train_padded, y = y_train, batch_size = 128, epochs = 10, validation_data=(X_test_padded, y_test))\r\n",
        "\r\n",
        "plt.plot(range(1,11), scores5.history['accuracy'], label = 'Training Accuracy')\r\n",
        "plt.plot(range(1,11), scores5.history['val_accuracy'], label = 'Validation Accuracy')\r\n",
        "plt.axis([1, 10, 0, 1])\r\n",
        "plt.xlabel('Epoch')\r\n",
        "plt.ylabel('Accuracy')\r\n",
        "plt.title('Train and Validation Accuracy using Adam Optimizer')\r\n",
        "plt.legend()\r\n",
        "plt.show()"
      ],
      "execution_count": null,
      "outputs": [
        {
          "output_type": "stream",
          "text": [
            "Model: \"sequential_1\"\n",
            "_________________________________________________________________\n",
            "Layer (type)                 Output Shape              Param #   \n",
            "=================================================================\n",
            "embedding_1 (Embedding)      (None, None, 128)         1280000   \n",
            "_________________________________________________________________\n",
            "lstm_1 (LSTM)                (None, 128)               131584    \n",
            "_________________________________________________________________\n",
            "dense_1 (Dense)              (None, 1)                 129       \n",
            "=================================================================\n",
            "Total params: 1,411,713\n",
            "Trainable params: 1,411,713\n",
            "Non-trainable params: 0\n",
            "_________________________________________________________________\n",
            "Epoch 1/10\n",
            "196/196 [==============================] - 7s 25ms/step - loss: 0.5835 - accuracy: 0.6827 - val_loss: 0.3476 - val_accuracy: 0.8508\n",
            "Epoch 2/10\n",
            "196/196 [==============================] - 4s 23ms/step - loss: 0.3098 - accuracy: 0.8743 - val_loss: 0.4109 - val_accuracy: 0.8292\n",
            "Epoch 3/10\n",
            "196/196 [==============================] - 4s 23ms/step - loss: 0.2526 - accuracy: 0.9017 - val_loss: 0.3709 - val_accuracy: 0.8346\n",
            "Epoch 4/10\n",
            "196/196 [==============================] - 4s 23ms/step - loss: 0.2211 - accuracy: 0.9156 - val_loss: 0.3847 - val_accuracy: 0.8456\n",
            "Epoch 5/10\n",
            "196/196 [==============================] - 4s 23ms/step - loss: 0.1862 - accuracy: 0.9314 - val_loss: 0.3679 - val_accuracy: 0.8418\n",
            "Epoch 6/10\n",
            "196/196 [==============================] - 4s 23ms/step - loss: 0.1606 - accuracy: 0.9411 - val_loss: 0.3985 - val_accuracy: 0.8438\n",
            "Epoch 7/10\n",
            "196/196 [==============================] - 4s 23ms/step - loss: 0.1323 - accuracy: 0.9521 - val_loss: 0.4923 - val_accuracy: 0.8407\n",
            "Epoch 8/10\n",
            "196/196 [==============================] - 4s 23ms/step - loss: 0.1079 - accuracy: 0.9602 - val_loss: 0.4500 - val_accuracy: 0.8405\n",
            "Epoch 9/10\n",
            "196/196 [==============================] - 4s 23ms/step - loss: 0.0841 - accuracy: 0.9704 - val_loss: 0.4953 - val_accuracy: 0.8269\n",
            "Epoch 10/10\n",
            "196/196 [==============================] - 5s 24ms/step - loss: 0.0622 - accuracy: 0.9785 - val_loss: 0.6294 - val_accuracy: 0.8291\n"
          ],
          "name": "stdout"
        },
        {
          "output_type": "display_data",
          "data": {
            "image/png": "[encoded data removed]",
            "text/plain": [
              "<Figure size 432x288 with 1 Axes>"
            ]
          },
          "metadata": {
            "tags": [],
            "needs_background": "light"
          }
        }
      ]
    },
    {
      "cell_type": "code",
      "metadata": {
        "colab": {
          "base_uri": "https://localhost:8080/",
          "height": 525
        },
        "id": "P2YD4qSr6zcv",
        "outputId": "4ba3881f-354e-4c41-e597-9a5cbcdc5cb2"
      },
      "source": [
        "# 옵티마이저가 adam과 RMSprop으로 다른데, 책에는 adam은 검증정확도가 80%, RMSprop은 80%로 adam이 더 과적합됐다고 한다.\r\n",
        "# RMSprop 데이터로 혼동행렬을 만들어 본다\r\n",
        "\r\n",
        "from sklearn.metrics import confusion_matrix\r\n",
        "import seaborn as sns\r\n",
        "\r\n",
        "plt.figure(figsize = (10,7))\r\n",
        "sns.set(font_scale = 2)\r\n",
        "y_test_pred = model5.predict_classes(X_test_padded)\r\n",
        "c_matrix = confusion_matrix(y_test, y_test_pred)\r\n",
        "ax = sns.heatmap(c_matrix, annot=True, xticklabels=['Negative Sentiment', 'Positive Sentiment'], yticklabels=['Negative Sentiment', 'Positive Sentiment'], cbar=False, cmap='Blues', fmt='g')\r\n",
        "ax.set_xlabel(\"Prediction\")\r\n",
        "ax.set_ylabel(\"Actual\")\r\n",
        "plt.show()"
      ],
      "execution_count": null,
      "outputs": [
        {
          "output_type": "stream",
          "text": [
            "/usr/local/lib/python3.6/dist-packages/tensorflow/python/keras/engine/sequential.py:450: UserWarning: `model.predict_classes()` is deprecated and will be removed after 2021-01-01. Please use instead:* `np.argmax(model.predict(x), axis=-1)`,   if your model does multi-class classification   (e.g. if it uses a `softmax` last-layer activation).* `(model.predict(x) > 0.5).astype(\"int32\")`,   if your model does binary classification   (e.g. if it uses a `sigmoid` last-layer activation).\n",
            "  warnings.warn('`model.predict_classes()` is deprecated and '\n"
          ],
          "name": "stderr"
        },
        {
          "output_type": "display_data",
          "data": {
            "image/png": "[encoded data removed]",
            "text/plain": [
              "<Figure size 720x504 with 1 Axes>"
            ]
          },
          "metadata": {
            "tags": []
          }
        }
      ]
    },
    {
      "cell_type": "code",
      "metadata": {
        "colab": {
          "base_uri": "https://localhost:8080/"
        },
        "id": "qtMiCLe47-OO",
        "outputId": "f112fb09-dce1-46f8-c7c0-7c03fef09730"
      },
      "source": [
        "# 진음성과 진양성 비율\r\n",
        "\r\n",
        "n = 10699 + 10028\r\n",
        "d = n + 2472 + 1801\r\n",
        "\r\n",
        "print(n/d * 100)"
      ],
      "execution_count": null,
      "outputs": [
        {
          "output_type": "stream",
          "text": [
            "82.908\n"
          ],
          "name": "stdout"
        }
      ]
    },
    {
      "cell_type": "code",
      "metadata": {
        "id": "zlaNIQhF8Rfp"
      },
      "source": [
        "# 이 모델은 82%정도로 감성을 분석한다.\r\n",
        "\r\n",
        "# 모델이 잘못 분류한 결과\r\n",
        "# 미묘한 표현. 비꼬는 표현\r\n",
        "# 다분히 중립적인 표현. 다른사람을 인용하는 표현\r\n",
        "# 다른 리뷰어를 공격하는 내용\r\n",
        "# 등이 있다."
      ],
      "execution_count": null,
      "outputs": []
    }
  ]
}